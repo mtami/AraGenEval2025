{
 "cells": [
  {
   "cell_type": "code",
   "execution_count": null,
   "metadata": {
    "executionInfo": {
     "elapsed": 9270,
     "status": "ok",
     "timestamp": 1751220647209,
     "user": {
      "displayName": "Huthayfa Malhas",
      "userId": "08298789192258529822"
     },
     "user_tz": -180
    },
    "id": "mwjKX272KRVf",
    "trusted": true
   },
   "outputs": [],
   "source": [
    "# Install required libraries\n",
    "!pip install -q transformers datasets scikit-learn accelerate pandas openpyxl huggingface_hub"
   ]
  },
  {
   "cell_type": "code",
   "execution_count": 19,
   "metadata": {
    "execution": {
     "iopub.execute_input": "2025-06-29T23:09:40.530530Z",
     "iopub.status.busy": "2025-06-29T23:09:40.530140Z",
     "iopub.status.idle": "2025-06-29T23:09:40.535051Z",
     "shell.execute_reply": "2025-06-29T23:09:40.534317Z",
     "shell.execute_reply.started": "2025-06-29T23:09:40.530502Z"
    },
    "executionInfo": {
     "elapsed": 43,
     "status": "ok",
     "timestamp": 1751222447715,
     "user": {
      "displayName": "Huthayfa Malhas",
      "userId": "08298789192258529822"
     },
     "user_tz": -180
    },
    "id": "7gwJQGqVKeNn",
    "trusted": true
   },
   "outputs": [],
   "source": [
    "# Handle imports\n",
    "import pandas as pd\n",
    "from google.colab import drive\n",
    "from datasets import Dataset, DatasetDict\n",
    "from sklearn.preprocessing import LabelEncoder\n",
    "from transformers import AutoTokenizer, AutoModelForSequenceClassification, TrainingArguments, Trainer\n",
    "from sklearn.metrics import accuracy_score, f1_score\n",
    "from sklearn.model_selection import train_test_split\n",
    "from transformers import EarlyStoppingCallback\n",
    "from huggingface_hub import login"
   ]
  },
  {
   "cell_type": "code",
   "execution_count": 20,
   "metadata": {
    "execution": {
     "iopub.execute_input": "2025-06-29T23:09:44.253057Z",
     "iopub.status.busy": "2025-06-29T23:09:44.252619Z",
     "iopub.status.idle": "2025-06-29T23:09:53.162296Z",
     "shell.execute_reply": "2025-06-29T23:09:53.161600Z",
     "shell.execute_reply.started": "2025-06-29T23:09:44.253035Z"
    },
    "executionInfo": {
     "elapsed": 18194,
     "status": "ok",
     "timestamp": 1751221681608,
     "user": {
      "displayName": "Huthayfa Malhas",
      "userId": "08298789192258529822"
     },
     "user_tz": -180
    },
    "id": "Wy8domLvRl3C",
    "outputId": "85c67c48-3feb-44d4-88b1-30da08571b0b",
    "trusted": true
   },
   "outputs": [
    {
     "data": {
      "text/plain": [
       "DatasetDict({\n",
       "    train: Dataset({\n",
       "        features: ['text', 'label'],\n",
       "        num_rows: 31602\n",
       "    })\n",
       "    validation: Dataset({\n",
       "        features: ['text', 'label'],\n",
       "        num_rows: 4157\n",
       "    })\n",
       "    test: Dataset({\n",
       "        features: ['text', 'label'],\n",
       "        num_rows: 3520\n",
       "    })\n",
       "})"
      ]
     },
     "execution_count": 20,
     "metadata": {},
     "output_type": "execute_result"
    }
   ],
   "source": [
    "# Load Excel files\n",
    "train_df = pd.read_excel(\"/kaggle/input/arabic-authors/train_90percent_per_author.xlsx\")\n",
    "val_df = pd.read_excel(\"/kaggle/input/arabic-authors/AuthorshipClassficiationVal.xlsx\")\n",
    "test_df = pd.read_excel(\"/kaggle/input/arabic-authors/heldout_10percent_per_author.xlsx\")\n",
    "\n",
    "# Clean missing values\n",
    "train_df = train_df.dropna(subset=[\"text_in_author_style\", \"author\"])\n",
    "val_df = val_df.dropna(subset=[\"text_in_author_style\", \"author\"])\n",
    "test_df = test_df.dropna(subset=[\"text_in_author_style\", \"author\"])\n",
    "\n",
    "# Encode author names into numeric labels\n",
    "all_authors = pd.concat([train_df[\"author\"], val_df[\"author\"]])\n",
    "label_encoder = LabelEncoder()\n",
    "label_encoder.fit(all_authors)\n",
    "\n",
    "train_df[\"label\"] = label_encoder.transform(train_df[\"author\"])\n",
    "val_df[\"label\"] = label_encoder.transform(val_df[\"author\"])\n",
    "test_df[\"label\"] = label_encoder.transform(test_df[\"author\"])\n",
    "\n",
    "# Prepare final datasets\n",
    "train_df = train_df[[\"text_in_author_style\", \"label\"]].rename(columns={\"text_in_author_style\": \"text\"})\n",
    "val_df = val_df[[\"text_in_author_style\", \"label\"]].rename(columns={\"text_in_author_style\": \"text\"})\n",
    "test_df = test_df[[\"text_in_author_style\", \"label\"]].rename(columns={\"text_in_author_style\": \"text\"})\n",
    "\n",
    "# Convert to DatasetDict\n",
    "dataset = DatasetDict({\n",
    "    \"train\": Dataset.from_pandas(train_df.reset_index(drop=True)),\n",
    "    \"validation\": Dataset.from_pandas(val_df.reset_index(drop=True)),\n",
    "    \"test\": Dataset.from_pandas(test_df.reset_index(drop=True)),\n",
    "})\n",
    "\n",
    "dataset"
   ]
  },
  {
   "cell_type": "code",
   "execution_count": 21,
   "metadata": {
    "execution": {
     "iopub.execute_input": "2025-06-29T23:10:29.005415Z",
     "iopub.status.busy": "2025-06-29T23:10:29.005143Z",
     "iopub.status.idle": "2025-06-29T23:11:02.905232Z",
     "shell.execute_reply": "2025-06-29T23:11:02.904670Z",
     "shell.execute_reply.started": "2025-06-29T23:10:29.005394Z"
    },
    "executionInfo": {
     "elapsed": 204292,
     "status": "ok",
     "timestamp": 1751222236157,
     "user": {
      "displayName": "Huthayfa Malhas",
      "userId": "08298789192258529822"
     },
     "user_tz": -180
    },
    "id": "1vWDQQHGSLlP",
    "outputId": "7d4fcd44-3e66-4c5d-a60a-df4887595e41",
    "trusted": true
   },
   "outputs": [
    {
     "data": {
      "application/vnd.jupyter.widget-view+json": {
       "model_id": "7ffcc356a16b4c6fa0bc1abe8a2935e2",
       "version_major": 2,
       "version_minor": 0
      },
      "text/plain": [
       "tokenizer_config.json:   0%|          | 0.00/611 [00:00<?, ?B/s]"
      ]
     },
     "metadata": {},
     "output_type": "display_data"
    },
    {
     "data": {
      "application/vnd.jupyter.widget-view+json": {
       "model_id": "bd3199abb1cb43a5930156eba0e0f376",
       "version_major": 2,
       "version_minor": 0
      },
      "text/plain": [
       "config.json:   0%|          | 0.00/384 [00:00<?, ?B/s]"
      ]
     },
     "metadata": {},
     "output_type": "display_data"
    },
    {
     "data": {
      "application/vnd.jupyter.widget-view+json": {
       "model_id": "27de6645bd124f6193af0f91e41e074a",
       "version_major": 2,
       "version_minor": 0
      },
      "text/plain": [
       "vocab.txt: 0.00B [00:00, ?B/s]"
      ]
     },
     "metadata": {},
     "output_type": "display_data"
    },
    {
     "data": {
      "application/vnd.jupyter.widget-view+json": {
       "model_id": "32fa10db5114475685c13dcdf160e828",
       "version_major": 2,
       "version_minor": 0
      },
      "text/plain": [
       "tokenizer.json: 0.00B [00:00, ?B/s]"
      ]
     },
     "metadata": {},
     "output_type": "display_data"
    },
    {
     "data": {
      "application/vnd.jupyter.widget-view+json": {
       "model_id": "2bb1704c86ed4197aa6dcabec27dd556",
       "version_major": 2,
       "version_minor": 0
      },
      "text/plain": [
       "special_tokens_map.json:   0%|          | 0.00/112 [00:00<?, ?B/s]"
      ]
     },
     "metadata": {},
     "output_type": "display_data"
    },
    {
     "data": {
      "application/vnd.jupyter.widget-view+json": {
       "model_id": "ca1615a018774a56846b8c090b70853a",
       "version_major": 2,
       "version_minor": 0
      },
      "text/plain": [
       "Map:   0%|          | 0/31602 [00:00<?, ? examples/s]"
      ]
     },
     "metadata": {},
     "output_type": "display_data"
    },
    {
     "data": {
      "application/vnd.jupyter.widget-view+json": {
       "model_id": "4cf1450c928d44feb4b8ecd9efe3c5fe",
       "version_major": 2,
       "version_minor": 0
      },
      "text/plain": [
       "Map:   0%|          | 0/4157 [00:00<?, ? examples/s]"
      ]
     },
     "metadata": {},
     "output_type": "display_data"
    },
    {
     "data": {
      "application/vnd.jupyter.widget-view+json": {
       "model_id": "feeb295da7f94d01b039eac1cbac20da",
       "version_major": 2,
       "version_minor": 0
      },
      "text/plain": [
       "Map:   0%|          | 0/3520 [00:00<?, ? examples/s]"
      ]
     },
     "metadata": {},
     "output_type": "display_data"
    }
   ],
   "source": [
    "# Tokenize data\n",
    "model_name_to_token_length_map = {\n",
    "    \"aubmindlab/bert-base-arabertv2\": 512,\n",
    "    \"NAMAA-Space/AraModernBert-Base-V1.0\": 512,#defaul 8192\n",
    "    \"answerdotai/ModernBERT-base\": 512\n",
    "}\n",
    "\n",
    "\n",
    "model_name = \"aubmindlab/bert-base-arabertv2\"\n",
    "\n",
    "tokenizer = AutoTokenizer.from_pretrained(model_name)\n",
    "\n",
    "def tokenize_function(example):\n",
    "    return tokenizer(\n",
    "        example[\"text\"],\n",
    "        padding=\"max_length\",\n",
    "        truncation=True,\n",
    "        max_length=model_name_to_token_length_map[model_name]\n",
    "    )\n",
    "\n",
    "tokenized_dataset = dataset.map(tokenize_function, batched=True)"
   ]
  },
  {
   "cell_type": "code",
   "execution_count": 22,
   "metadata": {
    "execution": {
     "iopub.execute_input": "2025-06-29T23:16:13.854511Z",
     "iopub.status.busy": "2025-06-29T23:16:13.854203Z",
     "iopub.status.idle": "2025-06-29T23:16:13.888487Z",
     "shell.execute_reply": "2025-06-29T23:16:13.887756Z",
     "shell.execute_reply.started": "2025-06-29T23:16:13.854483Z"
    },
    "executionInfo": {
     "elapsed": 29,
     "status": "ok",
     "timestamp": 1751222568788,
     "user": {
      "displayName": "Huthayfa Malhas",
      "userId": "08298789192258529822"
     },
     "user_tz": -180
    },
    "id": "y5xp5bJQSTCr",
    "trusted": true
   },
   "outputs": [],
   "source": [
    "# Prepare training arguments\n",
    "training_args = TrainingArguments(\n",
    "    output_dir=\"/kaggle/working/arabic-author-model\",\n",
    "    eval_strategy=\"steps\",\n",
    "    eval_steps=2000,\n",
    "    save_steps=2000,\n",
    "    save_strategy=\"steps\",\n",
    "    # logging_steps=1,  # Steps interval for logging\n",
    "    # eval_steps=20,  # Steps interval for evaluation\n",
    "    logging_dir=\"/kaggle/working/logs\",\n",
    "    per_device_train_batch_size=4,\n",
    "    per_device_eval_batch_size=4,\n",
    "    num_train_epochs=3,\n",
    "    warmup_ratio=0.05,\n",
    "    learning_rate=2e-5,\n",
    "    lr_scheduler_type=\"linear\", # default is linear\n",
    "    weight_decay=0.01,\n",
    "    save_total_limit=5,\n",
    "    load_best_model_at_end=True,\n",
    "    fp16=True,\n",
    "    metric_for_best_model=\"f1\",\n",
    "    report_to=[\"wandb\"],\n",
    "    run_name=\"arabic-author-arabert-v2\"\n",
    ")"
   ]
  },
  {
   "cell_type": "code",
   "execution_count": 23,
   "metadata": {
    "execution": {
     "iopub.execute_input": "2025-06-29T23:16:26.039122Z",
     "iopub.status.busy": "2025-06-29T23:16:26.038876Z",
     "iopub.status.idle": "2025-06-29T23:16:26.043278Z",
     "shell.execute_reply": "2025-06-29T23:16:26.042471Z",
     "shell.execute_reply.started": "2025-06-29T23:16:26.039103Z"
    },
    "executionInfo": {
     "elapsed": 7,
     "status": "ok",
     "timestamp": 1751222571435,
     "user": {
      "displayName": "Huthayfa Malhas",
      "userId": "08298789192258529822"
     },
     "user_tz": -180
    },
    "id": "CgbcPrruS2Nx",
    "trusted": true
   },
   "outputs": [],
   "source": [
    "# Prepare evaluation metrics\n",
    "def compute_metrics(eval_pred):\n",
    "    logits, labels = eval_pred\n",
    "    predictions = logits.argmax(axis=-1)\n",
    "    return {\n",
    "        \"accuracy\": accuracy_score(labels, predictions),\n",
    "        \"f1\": f1_score(labels, predictions, average=\"weighted\"),\n",
    "    }"
   ]
  },
  {
   "cell_type": "code",
   "execution_count": 25,
   "metadata": {
    "execution": {
     "iopub.execute_input": "2025-06-29T23:18:31.729556Z",
     "iopub.status.busy": "2025-06-29T23:18:31.728860Z",
     "iopub.status.idle": "2025-06-29T23:18:31.875689Z",
     "shell.execute_reply": "2025-06-29T23:18:31.875154Z",
     "shell.execute_reply.started": "2025-06-29T23:18:31.729532Z"
    },
    "trusted": true
   },
   "outputs": [
    {
     "name": "stderr",
     "output_type": "stream",
     "text": [
      "\u001b[34m\u001b[1mwandb\u001b[0m: \u001b[33mWARNING\u001b[0m If you're specifying your api key in code, ensure this code is not shared publicly.\n",
      "\u001b[34m\u001b[1mwandb\u001b[0m: \u001b[33mWARNING\u001b[0m Consider setting the WANDB_API_KEY environment variable, or running `wandb login` from the command line.\n",
      "\u001b[34m\u001b[1mwandb\u001b[0m: No netrc file found, creating one.\n",
      "\u001b[34m\u001b[1mwandb\u001b[0m: Appending key for api.wandb.ai to your netrc file: /root/.netrc\n",
      "\u001b[34m\u001b[1mwandb\u001b[0m: Currently logged in as: \u001b[33mmabutame\u001b[0m to \u001b[32mhttps://api.wandb.ai\u001b[0m. Use \u001b[1m`wandb login --relogin`\u001b[0m to force relogin\n"
     ]
    },
    {
     "data": {
      "text/plain": [
       "True"
      ]
     },
     "execution_count": 25,
     "metadata": {},
     "output_type": "execute_result"
    }
   ],
   "source": [
    "import wandb\n",
    "from kaggle_secrets import UserSecretsClient\n",
    "\n",
    "user_secrets = UserSecretsClient()\n",
    "WANDB_API_KEY = user_secrets.get_secret(\"WANDB_API_KEY\")\n",
    "\n",
    "wandb.login(key=WANDB_API_KEY)"
   ]
  },
  {
   "cell_type": "code",
   "execution_count": 26,
   "metadata": {
    "execution": {
     "iopub.execute_input": "2025-06-29T23:18:51.925794Z",
     "iopub.status.busy": "2025-06-29T23:18:51.924997Z",
     "iopub.status.idle": "2025-06-29T23:18:58.463597Z",
     "shell.execute_reply": "2025-06-29T23:18:58.462871Z",
     "shell.execute_reply.started": "2025-06-29T23:18:51.925769Z"
    },
    "trusted": true
   },
   "outputs": [
    {
     "data": {
      "text/html": [
       "Tracking run with wandb version 0.19.9"
      ],
      "text/plain": [
       "<IPython.core.display.HTML object>"
      ]
     },
     "metadata": {},
     "output_type": "display_data"
    },
    {
     "data": {
      "text/html": [
       "Run data is saved locally in <code>/kaggle/working/wandb/run-20250629_231851-8unumslq</code>"
      ],
      "text/plain": [
       "<IPython.core.display.HTML object>"
      ]
     },
     "metadata": {},
     "output_type": "display_data"
    },
    {
     "data": {
      "text/html": [
       "Syncing run <strong><a href='https://wandb.ai/mabutame/arabic-author-classification/runs/8unumslq' target=\"_blank\">project_name-29-06-2025_23-18-51</a></strong> to <a href='https://wandb.ai/mabutame/arabic-author-classification' target=\"_blank\">Weights & Biases</a> (<a href='https://wandb.me/developer-guide' target=\"_blank\">docs</a>)<br>"
      ],
      "text/plain": [
       "<IPython.core.display.HTML object>"
      ]
     },
     "metadata": {},
     "output_type": "display_data"
    },
    {
     "data": {
      "text/html": [
       " View project at <a href='https://wandb.ai/mabutame/arabic-author-classification' target=\"_blank\">https://wandb.ai/mabutame/arabic-author-classification</a>"
      ],
      "text/plain": [
       "<IPython.core.display.HTML object>"
      ]
     },
     "metadata": {},
     "output_type": "display_data"
    },
    {
     "data": {
      "text/html": [
       " View run at <a href='https://wandb.ai/mabutame/arabic-author-classification/runs/8unumslq' target=\"_blank\">https://wandb.ai/mabutame/arabic-author-classification/runs/8unumslq</a>"
      ],
      "text/plain": [
       "<IPython.core.display.HTML object>"
      ]
     },
     "metadata": {},
     "output_type": "display_data"
    },
    {
     "data": {
      "text/html": [
       "<button onClick=\"this.nextSibling.style.display='block';this.style.display='none';\">Display W&B run</button><iframe src='https://wandb.ai/mabutame/arabic-author-classification/runs/8unumslq?jupyter=true' style='border:none;width:100%;height:420px;display:none;'></iframe>"
      ],
      "text/plain": [
       "<wandb.sdk.wandb_run.Run at 0x7fda49c81190>"
      ]
     },
     "execution_count": 26,
     "metadata": {},
     "output_type": "execute_result"
    }
   ],
   "source": [
    "import wandb\n",
    "from datetime import datetime\n",
    "\n",
    "now = datetime.now().strftime(\"%d-%m-%Y_%H-%M-%S\")\n",
    "project_name = \"arabic-author-classification\"\n",
    "wandb.init(\n",
    "    project=project_name,\n",
    "    name=f\"project_name-{now}\",\n",
    "    config=training_args,\n",
    ")\n"
   ]
  },
  {
   "cell_type": "code",
   "execution_count": 27,
   "metadata": {
    "execution": {
     "iopub.execute_input": "2025-06-29T23:19:11.106748Z",
     "iopub.status.busy": "2025-06-29T23:19:11.106402Z",
     "iopub.status.idle": "2025-06-29T23:19:21.732697Z",
     "shell.execute_reply": "2025-06-29T23:19:21.731920Z",
     "shell.execute_reply.started": "2025-06-29T23:19:11.106725Z"
    },
    "executionInfo": {
     "elapsed": 18979,
     "status": "ok",
     "timestamp": 1751222593419,
     "user": {
      "displayName": "Huthayfa Malhas",
      "userId": "08298789192258529822"
     },
     "user_tz": -180
    },
    "id": "Lcp7YuKPTHk5",
    "outputId": "f8370726-e2e0-4edd-b23c-3eb0e18b2005",
    "trusted": true
   },
   "outputs": [
    {
     "data": {
      "application/vnd.jupyter.widget-view+json": {
       "model_id": "45d8bec9b8cb437389dc11a8c2393e83",
       "version_major": 2,
       "version_minor": 0
      },
      "text/plain": [
       "model.safetensors:   0%|          | 0.00/543M [00:00<?, ?B/s]"
      ]
     },
     "metadata": {},
     "output_type": "display_data"
    },
    {
     "name": "stderr",
     "output_type": "stream",
     "text": [
      "Some weights of BertForSequenceClassification were not initialized from the model checkpoint at aubmindlab/bert-base-arabertv2 and are newly initialized: ['classifier.bias', 'classifier.weight']\n",
      "You should probably TRAIN this model on a down-stream task to be able to use it for predictions and inference.\n"
     ]
    }
   ],
   "source": [
    "# Prepare trainer\n",
    "\n",
    "num_classes = len(label_encoder.classes_)\n",
    "model = AutoModelForSequenceClassification.from_pretrained(model_name, num_labels=num_classes)\n",
    "\n",
    "trainer = Trainer(\n",
    "    model=model,\n",
    "    args=training_args,\n",
    "    train_dataset=tokenized_dataset[\"train\"],\n",
    "    eval_dataset=tokenized_dataset[\"validation\"],\n",
    "    compute_metrics=compute_metrics,\n",
    "    callbacks=[EarlyStoppingCallback(early_stopping_patience=3)]\n",
    ")\n"
   ]
  },
  {
   "cell_type": "code",
   "execution_count": 28,
   "metadata": {
    "execution": {
     "iopub.execute_input": "2025-06-29T23:21:02.102254Z",
     "iopub.status.busy": "2025-06-29T23:21:02.101686Z",
     "iopub.status.idle": "2025-06-30T01:16:55.094849Z",
     "shell.execute_reply": "2025-06-30T01:16:55.094308Z",
     "shell.execute_reply.started": "2025-06-29T23:21:02.102231Z"
    },
    "executionInfo": {
     "elapsed": 12280,
     "status": "error",
     "timestamp": 1751222778053,
     "user": {
      "displayName": "Huthayfa Malhas",
      "userId": "08298789192258529822"
     },
     "user_tz": -180
    },
    "id": "rug7EjkDTNuS",
    "outputId": "486bd544-f64d-4bfa-fa89-b0d2e931039f",
    "trusted": true
   },
   "outputs": [
    {
     "name": "stderr",
     "output_type": "stream",
     "text": [
      "/usr/local/lib/python3.11/dist-packages/torch/nn/parallel/_functions.py:70: UserWarning: Was asked to gather along dimension 0, but all input tensors were scalars; will instead unsqueeze and return a vector.\n",
      "  warnings.warn(\n"
     ]
    },
    {
     "data": {
      "text/html": [
       "\n",
       "    <div>\n",
       "      \n",
       "      <progress value='11853' max='11853' style='width:300px; height:20px; vertical-align: middle;'></progress>\n",
       "      [11853/11853 1:55:51, Epoch 3/3]\n",
       "    </div>\n",
       "    <table border=\"1\" class=\"dataframe\">\n",
       "  <thead>\n",
       " <tr style=\"text-align: left;\">\n",
       "      <th>Step</th>\n",
       "      <th>Training Loss</th>\n",
       "      <th>Validation Loss</th>\n",
       "      <th>Accuracy</th>\n",
       "      <th>F1</th>\n",
       "    </tr>\n",
       "  </thead>\n",
       "  <tbody>\n",
       "    <tr>\n",
       "      <td>2000</td>\n",
       "      <td>0.544200</td>\n",
       "      <td>0.743358</td>\n",
       "      <td>0.798172</td>\n",
       "      <td>0.783896</td>\n",
       "    </tr>\n",
       "    <tr>\n",
       "      <td>4000</td>\n",
       "      <td>0.299500</td>\n",
       "      <td>0.906832</td>\n",
       "      <td>0.835218</td>\n",
       "      <td>0.831561</td>\n",
       "    </tr>\n",
       "    <tr>\n",
       "      <td>6000</td>\n",
       "      <td>0.353100</td>\n",
       "      <td>1.908645</td>\n",
       "      <td>0.848930</td>\n",
       "      <td>0.843064</td>\n",
       "    </tr>\n",
       "    <tr>\n",
       "      <td>8000</td>\n",
       "      <td>0.286400</td>\n",
       "      <td>2.156011</td>\n",
       "      <td>0.847727</td>\n",
       "      <td>0.848847</td>\n",
       "    </tr>\n",
       "    <tr>\n",
       "      <td>10000</td>\n",
       "      <td>0.146300</td>\n",
       "      <td>1.862570</td>\n",
       "      <td>0.871542</td>\n",
       "      <td>0.870087</td>\n",
       "    </tr>\n",
       "  </tbody>\n",
       "</table><p>"
      ],
      "text/plain": [
       "<IPython.core.display.HTML object>"
      ]
     },
     "metadata": {},
     "output_type": "display_data"
    },
    {
     "name": "stderr",
     "output_type": "stream",
     "text": [
      "/usr/local/lib/python3.11/dist-packages/torch/nn/parallel/_functions.py:70: UserWarning: Was asked to gather along dimension 0, but all input tensors were scalars; will instead unsqueeze and return a vector.\n",
      "  warnings.warn(\n",
      "/usr/local/lib/python3.11/dist-packages/torch/nn/parallel/_functions.py:70: UserWarning: Was asked to gather along dimension 0, but all input tensors were scalars; will instead unsqueeze and return a vector.\n",
      "  warnings.warn(\n",
      "/usr/local/lib/python3.11/dist-packages/torch/nn/parallel/_functions.py:70: UserWarning: Was asked to gather along dimension 0, but all input tensors were scalars; will instead unsqueeze and return a vector.\n",
      "  warnings.warn(\n",
      "/usr/local/lib/python3.11/dist-packages/torch/nn/parallel/_functions.py:70: UserWarning: Was asked to gather along dimension 0, but all input tensors were scalars; will instead unsqueeze and return a vector.\n",
      "  warnings.warn(\n",
      "/usr/local/lib/python3.11/dist-packages/torch/nn/parallel/_functions.py:70: UserWarning: Was asked to gather along dimension 0, but all input tensors were scalars; will instead unsqueeze and return a vector.\n",
      "  warnings.warn(\n"
     ]
    },
    {
     "data": {
      "text/plain": [
       "TrainOutput(global_step=11853, training_loss=0.4073278056532283, metrics={'train_runtime': 6952.4786, 'train_samples_per_second': 13.636, 'train_steps_per_second': 1.705, 'total_flos': 2.494876208101171e+16, 'train_loss': 0.4073278056532283, 'epoch': 3.0})"
      ]
     },
     "execution_count": 28,
     "metadata": {},
     "output_type": "execute_result"
    }
   ],
   "source": [
    "# Train data\n",
    "\n",
    "trainer.train()\n"
   ]
  },
  {
   "cell_type": "markdown",
   "metadata": {
    "id": "mWNn2QnGRXwQ"
   },
   "source": [
    "Metrics for aubmindlab/bert-base-arabertv2 with the following training arguments:\n",
    "- 2e-5 LR\n",
    "- Lieaner LR\n",
    "- total limits 3\n",
    "- no wramup\n",
    "- eval + save strategy = EPOCH\n",
    "- eval starts after one EPOCH\n",
    "\n",
    "| Epoch | Training Loss | Validation Loss | Accuracy |    F1    |\n",
    "|-------|---------------|-----------------|----------|----------|\n",
    "|   1   |    0.296500   |     0.659372    | 0.849170 | 0.847203 |\n",
    "|   2   |    0.113200   |     0.747239    | 0.861679 | 0.861908 |\n",
    "|   3   |    0.035400   |     0.700232    | 0.883570 | 0.882200 |\n",
    "\n",
    "macro f1_score on held-out 10%: 0.9700\n",
    "\n",
    "---------\n",
    "Metrics for aubmindlab/bert-base-arabertv2 with the following training arguments:\n",
    "- 10e-3 LR\n",
    "- Cosine LR\n",
    "- total limits 10\n",
    "- 10% of total steps wramup\n",
    "- eval + save strategy = steps\n",
    "- eval starts after 5000 steps"
   ]
  },
  {
   "cell_type": "code",
   "execution_count": null,
   "metadata": {
    "execution": {
     "iopub.execute_input": "2025-06-30T01:19:05.461719Z",
     "iopub.status.busy": "2025-06-30T01:19:05.461026Z",
     "iopub.status.idle": "2025-06-30T01:19:21.432865Z",
     "shell.execute_reply": "2025-06-30T01:19:21.432183Z",
     "shell.execute_reply.started": "2025-06-30T01:19:05.461696Z"
    },
    "id": "4mAn6kUATVFr",
    "trusted": true
   },
   "outputs": [
    {
     "data": {
      "application/vnd.jupyter.widget-view+json": {
       "model_id": "4162db9b15d44cc8896e7c8cec152a9b",
       "version_major": 2,
       "version_minor": 0
      },
      "text/plain": [
       "model.safetensors:   0%|          | 0.00/541M [00:00<?, ?B/s]"
      ]
     },
     "metadata": {},
     "output_type": "display_data"
    },
    {
     "data": {
      "application/vnd.jupyter.widget-view+json": {
       "model_id": "087d1ff41c714381982289207cd742e8",
       "version_major": 2,
       "version_minor": 0
      },
      "text/plain": [
       "README.md: 0.00B [00:00, ?B/s]"
      ]
     },
     "metadata": {},
     "output_type": "display_data"
    },
    {
     "name": "stdout",
     "output_type": "stream",
     "text": [
      "DONE\n"
     ]
    }
   ],
   "source": [
    "# Save model + tokenizer\n",
    "from kaggle_secrets import UserSecretsClient\n",
    "\n",
    "user_secrets = UserSecretsClient()\n",
    "HF_API_KEY = user_secrets.get_secret(\"HF_API_KEY\")\n",
    "\n",
    "login(token=HF_API_KEY)\n",
    "model.push_to_hub(\"Tami3/arabic-author-classifier\")\n",
    "tokenizer.push_to_hub(\"Tami3/arabic-author-classifier\")\n",
    "# model.save_pretrained(\"/kaggle/working/arabic-author-model\")\n",
    "# tokenizer.save_pretrained(\"/kaggle/working/arabic-author-model\")\n",
    "\n",
    "print(\"DONE\")"
   ]
  }
 ],
 "metadata": {
  "accelerator": "GPU",
  "colab": {
   "gpuType": "T4",
   "provenance": []
  },
  "kaggle": {
   "accelerator": "nvidiaTeslaT4",
   "dataSources": [
    {
     "datasetId": 7767971,
     "sourceId": 12323522,
     "sourceType": "datasetVersion"
    }
   ],
   "dockerImageVersionId": 31041,
   "isGpuEnabled": true,
   "isInternetEnabled": true,
   "language": "python",
   "sourceType": "notebook"
  },
  "kernelspec": {
   "display_name": "Python 3",
   "language": "python",
   "name": "python3"
  },
  "language_info": {
   "codemirror_mode": {
    "name": "ipython",
    "version": 3
   },
   "file_extension": ".py",
   "mimetype": "text/x-python",
   "name": "python",
   "nbconvert_exporter": "python",
   "pygments_lexer": "ipython3",
   "version": "3.11.11"
  },
 "nbformat": 4,
 "nbformat_minor": 4
}
